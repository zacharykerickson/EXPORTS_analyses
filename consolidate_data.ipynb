{
 "cells": [
  {
   "cell_type": "code",
   "execution_count": 84,
   "id": "92e4c7a4-df7a-43bd-8d2b-b412faf475f2",
   "metadata": {},
   "outputs": [],
   "source": [
    "import numpy as np\n",
    "import datetime as dt\n",
    "import gsw\n",
    "from netCDF4 import Dataset\n",
    "from glob import glob\n",
    "from scipy.io import loadmat\n",
    "from seawater_scattering import betasw_wetlabs"
   ]
  },
  {
   "cell_type": "markdown",
   "id": "a10bb7ae-e994-47cc-bd1a-4ce69d4beb15",
   "metadata": {
    "jp-MarkdownHeadingCollapsed": true,
    "tags": []
   },
   "source": [
    "## Data location\n",
    "\n",
    "### -- Data used here can be found at --  \n",
    "\n",
    "Discovery (DY_131), James Cook (JC_214), and Sarmiento de Gamboa (SdG_2015): 'R0b' data, https://drive.google.com/drive/folders/1eOIe4wNT181yFYjxgN1YECBCvyO4ZTFj  \n",
    "\n",
    "Seaglider data (SG_219, SG_237, and SL305): https://drive.google.com/drive/folders/1R5qwjbcK0c0NsO43aVBJbb4GPnjlaGJC  \n",
    "\n",
    "Biogeochemical float data (BGC_303 and BGC_304): https://drive.google.com/drive/folders/1RL20SX5zo9SFneicT957xlyqMtlcu683  \n",
    "\n",
    "### -- The final .nc file can be found at --\n",
    "\n",
    "https://drive.google.com/file/d/1SmBbt9G1jlz8o7iZ9sdc62tAl_4tFgqw (may need to request permission to view)\n"
   ]
  },
  {
   "cell_type": "markdown",
   "id": "2ef60516-f285-4dbc-b37b-c51d0e6f5996",
   "metadata": {
    "jp-MarkdownHeadingCollapsed": true,
    "tags": []
   },
   "source": [
    "## T/S correction\n",
    "\n",
    "This document corrects for T/S as in the analysis by Andrew Thompson, see document at: https://drive.google.com/drive/folders/1YceP5Z4kGsJrt3I79zou_Ci1Y3AIITlS\n",
    "\n",
    "Specifically, the following changes were made (from as-is data from the primary sensor for each instrument):  \n",
    "DY131: Use secondary T and S sensors  \n",
    "JC214: Salinity offset of -0.000993 PSU  \n",
    "SdG: Temperature offset of -0.0012 deg C  \n",
    "SdG: Salinity offset of +0.0012 PSU  \n",
    "SG219: Temperature offset of +0.0091 deg C  \n",
    "SG219: Salinity offset of +0.0042 PSU  \n",
    "SL305: Salinity offset of +0.0063 PSU \n",
    "BGC304: Temperature offset of +0.0094 deg C  \n",
    "BGC304: Salinity offset of +0.0074 PSU  "
   ]
  },
  {
   "cell_type": "markdown",
   "id": "0163c6b8-6ff7-4432-b137-26c0849a211a",
   "metadata": {},
   "source": [
    "## Backscatter and Chlorophyll Fluoresence measurements\n",
    "\n",
    "Backscatter data are converted from measurements of the volume scattering function (VSF) using the conversion $$b_b = 2 \\pi \\chi VSF$$ where $\\chi$ is 1.097 for measurements at 142 deg, 1.076 for measurements at 124 deg, and 1.142 for measurements at 150 deg (using the default BGC-Argo values as defined in Table 1 here: https://archimer.ifremer.fr/doc/00283/39459/56146.pdf)\n",
    "\n",
    "Backscatter and chlorophyll fluorescence data are then filtered using sequential running (5-point) minimum and maximum filters to minimize the effects of spikes before gridding."
   ]
  },
  {
   "cell_type": "code",
   "execution_count": 35,
   "id": "022b0fba-0f5a-456c-a3d8-a377cba8dc11",
   "metadata": {},
   "outputs": [],
   "source": [
    "def grid_data(data,dep,grid_depth,interpolate=False):\n",
    "    data = data.copy()\n",
    "    ddep = np.mean(np.diff(grid_depth))\n",
    "    gridded_data = np.array([np.nanmean(data[np.abs(dep-d)<ddep/2]) for d in grid_depth])\n",
    "    if interpolate:\n",
    "        ii = np.isfinite(gridded_data)\n",
    "        if np.sum(ii)<2:\n",
    "            return gridded_data\n",
    "        gridded_data[~ii] = np.interp(depth[~ii],depth[ii],gridded_data[ii],left=np.nan,right=np.nan)\n",
    "    return gridded_data\n",
    "def convert_date_gps(date,ref_date=dt.datetime(2021,5,1)):\n",
    "    d = dt.datetime.strptime(date,'%b %d %Y  %H:%M:%S')\n",
    "    dd = d-ref_date\n",
    "    return dd.days + dd.seconds/86400\n",
    "def convert_time_sg(time,start_date=dt.datetime(1970,1,1),ref_date=dt.datetime(2021,5,1)):\n",
    "    if np.isnan(time):\n",
    "        return np.nan\n",
    "    d = start_date + dt.timedelta(seconds=time)\n",
    "    dd = d-ref_date\n",
    "    return dd.days + dd.seconds/86400\n",
    "def convert_time_matlab(time):\n",
    "    return time-738277\n",
    "    # someone should check this...on Matlab datenum(2021,5,1) should be 738277 I hope!\n",
    "    # need a more elegant solution here I know...\n",
    "    "
   ]
  },
  {
   "cell_type": "code",
   "execution_count": 21,
   "id": "9094b72d-c91e-4f50-a8e3-aaf5df7fa485",
   "metadata": {},
   "outputs": [],
   "source": [
    "def min_max_filter(var,z,length=5):\n",
    "    inds = np.isfinite(var) & np.isfinite(z)\n",
    "    temp = np.array([np.min(var[inds][i:i+length]) for i in range(len(var[inds])-length)])\n",
    "    var_bln = np.array([np.max(temp[i:i+length]) for i in range(len(temp)-length)])\n",
    "    return var_bln,z[inds][length:-length]"
   ]
  },
  {
   "cell_type": "code",
   "execution_count": 4,
   "id": "03448c53-4813-4ed6-a490-3c327a3751b6",
   "metadata": {},
   "outputs": [],
   "source": [
    "depth = np.arange(1,1001)"
   ]
  },
  {
   "cell_type": "code",
   "execution_count": 107,
   "id": "d4c0d2a6-4da5-465e-a865-56502da4f264",
   "metadata": {},
   "outputs": [
    {
     "name": "stdout",
     "output_type": "stream",
     "text": [
      "112 files: 0 "
     ]
    },
    {
     "name": "stderr",
     "output_type": "stream",
     "text": [
      "/var/folders/qy/wmwmmxjn49vdd0lrh2vp44sm0002np/T/ipykernel_48581/987151129.py:4: RuntimeWarning: Mean of empty slice\n",
      "  gridded_data = np.array([np.nanmean(data[np.abs(dep-d)<ddep/2]) for d in grid_depth])\n"
     ]
    },
    {
     "name": "stdout",
     "output_type": "stream",
     "text": [
      "1 2 3 4 5 6 7 8 9 10 11 12 13 14 15 16 17 18 19 20 21 22 23 24 25 26 27 28 29 30 31 32 33 34 35 36 37 38 39 40 41 42 43 44 45 46 47 48 49 50 51 52 53 54 55 56 57 58 59 60 61 62 63 64 65 66 67 68 69 70 71 72 73 74 75 76 77 78 79 80 81 82 83 84 85 86 87 88 89 90 91 92 93 94 95 96 97 98 99 100 101 102 103 104 105 106 107 108 109 110 111 "
     ]
    }
   ],
   "source": [
    "# DY\n",
    "DY_files = glob('./R0b/DY_131/Bin1mData/*.nc')\n",
    "shape = (len(DY_files),len(depth))\n",
    "DY_T = np.empty(shape=shape)\n",
    "DY_S = np.empty(shape=shape)\n",
    "DY_chl = np.empty(shape=shape)\n",
    "DY_bbp = np.empty(shape=shape)\n",
    "DY_oxy = np.empty(shape=shape)\n",
    "DY_time = np.empty(shape=shape[0])\n",
    "DY_lat = np.empty(shape=shape[0])\n",
    "DY_lon = np.empty(shape=shape[0])\n",
    "DY_sta = np.empty(shape=shape[0])\n",
    "print('%d files:'%shape[0],end=' ')\n",
    "for i,file in enumerate(DY_files):\n",
    "    print(i,end=' ')\n",
    "    nc = Dataset(file,'r')\n",
    "    DY_time[i] = convert_date_gps(nc.gps_datetime)\n",
    "    DY_lat[i] = nc.LATITUDE\n",
    "    DY_lon[i] = nc.LONGITUDE\n",
    "    DY_sta[i] = int(file[-9:-6])\n",
    "    z = np.ma.filled(nc.variables['DEPTH'][:],fill_value=np.nan)\n",
    "    p = gsw.p_from_z(-z,nc.LATITUDE)\n",
    "    T = np.ma.filled(nc.variables['TEMP2'][:],fill_value=np.nan)\n",
    "    S = np.ma.filled(nc.variables['PSAL2'][:],fill_value=np.nan)\n",
    "    S[S<0] = np.nan\n",
    "    bbsw = betasw_wetlabs(700,20,142,42,T,S,p)[0].squeeze()\n",
    "\n",
    "    SA = gsw.SA_from_SP(S,p,nc.LONGITUDE,nc.LATITUDE)\n",
    "    CT = gsw.CT_from_t(SA,T,p)\n",
    "    oxy = np.ma.filled(nc.variables['oxygen_ml_L'][:]*44.6596*1000/(1000+nc.variables['sigma-�00'][:]),fill_value=np.nan)\n",
    "    chl,chlz = min_max_filter(nc.variables['flECO-AFL'][:],z)\n",
    "    bbp,bbpz = min_max_filter((nc.variables['turbWETbb0'][:]-bbsw)*2*np.pi*1.097,z)\n",
    "    \n",
    "    DY_T[i] = grid_data(CT,nc.variables['DEPTH'][:],depth)\n",
    "    DY_S[i] = grid_data(SA,nc.variables['DEPTH'][:],depth)\n",
    "    DY_chl[i] = grid_data(chl,chlz,depth)\n",
    "    DY_bbp[i] = grid_data(bbp,bbpz,depth)\n",
    "    DY_oxy[i] = grid_data(oxy,nc.variables['DEPTH'][:],depth)\n",
    "    \n",
    "    nc.close()"
   ]
  },
  {
   "cell_type": "code",
   "execution_count": 108,
   "id": "8a97f3ab-057d-4712-bbfa-8c7c1d73dc7a",
   "metadata": {},
   "outputs": [
    {
     "name": "stdout",
     "output_type": "stream",
     "text": [
      "69 files: 0 "
     ]
    },
    {
     "name": "stderr",
     "output_type": "stream",
     "text": [
      "/var/folders/qy/wmwmmxjn49vdd0lrh2vp44sm0002np/T/ipykernel_48581/470670951.py:3: UserWarning: Warning: converting a masked element to nan.\n",
      "  temp = np.array([np.min(var[inds][i:i+length]) for i in range(len(var[inds])-length)])\n",
      "/var/folders/qy/wmwmmxjn49vdd0lrh2vp44sm0002np/T/ipykernel_48581/987151129.py:4: RuntimeWarning: Mean of empty slice\n",
      "  gridded_data = np.array([np.nanmean(data[np.abs(dep-d)<ddep/2]) for d in grid_depth])\n"
     ]
    },
    {
     "name": "stdout",
     "output_type": "stream",
     "text": [
      "1 2 3 4 5 6 7 8 9 10 11 12 13 14 15 16 17 18 19 20 21 22 23 24 25 26 27 28 29 30 31 32 33 34 35 36 37 38 39 40 41 42 43 44 45 46 47 48 49 50 51 52 53 54 55 56 57 58 59 60 61 62 63 64 65 66 67 68 "
     ]
    }
   ],
   "source": [
    "# JC\n",
    "JC_files = glob('./R0b/JC_214/Bin1mData/*.nc')\n",
    "shape = (len(JC_files),len(depth))\n",
    "JC_T = np.empty(shape=shape)\n",
    "JC_S = np.empty(shape=shape)\n",
    "JC_chl = np.empty(shape=shape)\n",
    "JC_bbp = np.empty(shape=shape)\n",
    "JC_oxy = np.empty(shape=shape)\n",
    "JC_time = np.empty(shape=shape[0])\n",
    "JC_lat = np.empty(shape=shape[0])\n",
    "JC_lon = np.empty(shape=shape[0])\n",
    "JC_sta = np.empty(shape=shape[0])\n",
    "\n",
    "print('%d files:'%shape[0],end=' ')\n",
    "for i,file in enumerate(JC_files):\n",
    "    print(i,end=' ')\n",
    "    nc = Dataset(file,'r')\n",
    "    JC_time[i] = convert_date_gps(nc.gps_datetime)\n",
    "    JC_lat[i] = nc.LATITUDE\n",
    "    JC_lon[i] = nc.LONGITUDE\n",
    "    JC_sta[i] = int(file[-9:-6])\n",
    "    z = np.ma.filled(nc.variables['DEPTH'][:],fill_value=np.nan)\n",
    "    p = gsw.p_from_z(-z,nc.LATITUDE)\n",
    "    T = np.ma.filled(nc.variables['TEMP'][:],fill_value=np.nan)\n",
    "    S = np.ma.filled(nc.variables['PSAL'][:],fill_value=np.nan)-0.000993\n",
    "    S[S<0] = np.nan\n",
    "    bbsw = betasw_wetlabs(700,20,142,42,T,S,p)[0].squeeze()\n",
    "\n",
    "    SA = gsw.SA_from_SP(S,p,nc.LONGITUDE,nc.LATITUDE)\n",
    "    CT = gsw.CT_from_t(SA,T,p)\n",
    "    oxy = np.ma.filled(nc.variables['oxygen_ml_L'][:]*44.6596*1000/(1000+nc.variables['sigma-�00'][:]),fill_value=np.nan)\n",
    "    chl,chlz = min_max_filter(nc.variables['flECO-AFL'][:],nc.variables['DEPTH'][:])\n",
    "    bbp,bbpz = min_max_filter((nc.variables['turbWETntu0'][:]-bbsw)*2*np.pi*1.097,z)\n",
    "\n",
    "    JC_T[i] = grid_data(CT,nc.variables['DEPTH'][:],depth)\n",
    "    JC_S[i] = grid_data(SA,nc.variables['DEPTH'][:],depth)\n",
    "    JC_chl[i] = grid_data(chl,chlz,depth)\n",
    "    JC_bbp[i] = grid_data(bbp,bbpz,depth)\n",
    "    JC_oxy[i] = grid_data(oxy,nc.variables['DEPTH'][:],depth)\n",
    "\n",
    "    nc.close()"
   ]
  },
  {
   "cell_type": "code",
   "execution_count": 109,
   "id": "ddef4f0f-1179-46c8-8c5a-33963bf652c4",
   "metadata": {},
   "outputs": [
    {
     "name": "stdout",
     "output_type": "stream",
     "text": [
      "13 files: 0 "
     ]
    },
    {
     "name": "stderr",
     "output_type": "stream",
     "text": [
      "/var/folders/qy/wmwmmxjn49vdd0lrh2vp44sm0002np/T/ipykernel_48581/987151129.py:4: RuntimeWarning: Mean of empty slice\n",
      "  gridded_data = np.array([np.nanmean(data[np.abs(dep-d)<ddep/2]) for d in grid_depth])\n"
     ]
    },
    {
     "name": "stdout",
     "output_type": "stream",
     "text": [
      "1 2 3 4 5 6 7 8 9 10 11 12 "
     ]
    }
   ],
   "source": [
    "# SdG\n",
    "SdG_files = glob('./R0b/SdG_2015/Bin1mData/*.nc')\n",
    "shape = (len(SdG_files),len(depth))\n",
    "SdG_T = np.empty(shape=shape)\n",
    "SdG_S = np.empty(shape=shape)\n",
    "SdG_chl = np.empty(shape=shape)\n",
    "SdG_bbp = np.empty(shape=shape)\n",
    "SdG_oxy = np.empty(shape=shape)\n",
    "SdG_time = np.empty(shape=shape[0])\n",
    "SdG_lat = np.empty(shape=shape[0])\n",
    "SdG_lon = np.empty(shape=shape[0])\n",
    "SdG_sta = np.empty(shape=shape[0])\n",
    "\n",
    "print('%d files:'%shape[0],end=' ')\n",
    "for i,file in enumerate(SdG_files):\n",
    "    print(i,end=' ')\n",
    "    nc = Dataset(file,'r')\n",
    "    SdG_time[i] = convert_date_gps(nc.gps_datetime)\n",
    "    SdG_lat[i] = nc.LATITUDE\n",
    "    SdG_lon[i] = nc.LONGITUDE\n",
    "    SdG_sta[i] = int(file[-9:-6])\n",
    "    \n",
    "    z = np.ma.filled(nc.variables['DEPTH'][:],fill_value=np.nan)\n",
    "    p = gsw.p_from_z(-z,nc.LATITUDE)\n",
    "    T = np.ma.filled(nc.variables['TEMP'][:],fill_value=np.nan)-0.0012\n",
    "    S = np.ma.filled(nc.variables['PSAL'][:],fill_value=np.nan)+0.0012\n",
    "    S[S<0] = np.nan\n",
    "    bbsw = betasw_wetlabs(700,20,142,42,T,S,p)[0].squeeze()\n",
    "\n",
    "    SA = gsw.SA_from_SP(S,p,nc.LONGITUDE,nc.LATITUDE)\n",
    "    CT = gsw.CT_from_t(SA,T,p)\n",
    "\n",
    "    oxy = np.ma.filled(nc.variables['oxygen_ml_L'][:]*44.6596*1000/(1000+nc.variables['sigma-�00'][:]),fill_value=np.nan)\n",
    "    chl,chlz = min_max_filter(nc.variables['flECO-AFL'][:],nc.variables['DEPTH'][:])\n",
    "    bbp,bbpz = min_max_filter((nc.variables['turbWETntu0'][:]-bbsw)*2*np.pi*1.097,z)\n",
    "\n",
    "    SdG_T[i] = grid_data(CT,nc.variables['DEPTH'][:],depth)\n",
    "    SdG_S[i] = grid_data(SA,nc.variables['DEPTH'][:],depth)\n",
    "    SdG_chl[i] = grid_data(chl,chlz,depth)\n",
    "    SdG_bbp[i] = grid_data(bbp,bbpz,depth)\n",
    "    SdG_oxy[i] = grid_data(oxy,nc.variables['DEPTH'][:],depth)\n",
    "\n",
    "    nc.close()"
   ]
  },
  {
   "cell_type": "code",
   "execution_count": 152,
   "id": "1e65a564-9dab-4350-aa40-1979f65aa84e",
   "metadata": {},
   "outputs": [
    {
     "name": "stderr",
     "output_type": "stream",
     "text": [
      "/var/folders/qy/wmwmmxjn49vdd0lrh2vp44sm0002np/T/ipykernel_48581/842097141.py:8: RuntimeWarning: Mean of empty slice\n",
      "  SG219_lat = np.nanmean(nc.variables['lat'][:],axis=1)\n",
      "/var/folders/qy/wmwmmxjn49vdd0lrh2vp44sm0002np/T/ipykernel_48581/842097141.py:9: RuntimeWarning: Mean of empty slice\n",
      "  SG219_lon = np.nanmean(nc.variables['lon'][:],axis=1)\n",
      "/var/folders/qy/wmwmmxjn49vdd0lrh2vp44sm0002np/T/ipykernel_48581/842097141.py:11: RuntimeWarning: Mean of empty slice\n",
      "  SG219_time = np.array([convert_time_sg(np.nanmean(time)) for time in nc.variables['time'][:]])\n",
      "/var/folders/qy/wmwmmxjn49vdd0lrh2vp44sm0002np/T/ipykernel_48581/987151129.py:4: RuntimeWarning: Mean of empty slice\n",
      "  gridded_data = np.array([np.nanmean(data[np.abs(dep-d)<ddep/2]) for d in grid_depth])\n"
     ]
    },
    {
     "name": "stdout",
     "output_type": "stream",
     "text": [
      "0 10 20 30 40 50 60 70 80 90 100 110 120 130 140 150 160 170 180 190 200 210 220 230 240 250 260 270 280 290 300 310 320 330 340 350 360 370 380 390 400 410 420 430 440 450 460 470 480 490 500 510 520 530 540 550 560 570 580 590 600 610 620 630 640 "
     ]
    }
   ],
   "source": [
    "# SG219\n",
    "nc = Dataset('Gliders/sg219_EXPORTS_Apr21_level3.nc','r')\n",
    "#SG219_T = nc.variables['CT'][:,1::]\n",
    "#SG219_S = nc.variables['SA'][:,1::]\n",
    "SG219_S = gsw.SA_from_SP(nc.variables['S'][:,1::]+0.0042,nc.variables['P'][:,1::],nc.variables['lon'][:,1::],nc.variables['lat'][:,1::])\n",
    "SG219_T = gsw.CT_from_t(SG219_S,nc.variables['T'][:,1::]+0.0091,nc.variables['P'][:,1::])\n",
    "SG219_oxy = nc.variables['dissolved_oxygen'][:,1::]\n",
    "SG219_lat = np.nanmean(nc.variables['lat'][:],axis=1)\n",
    "SG219_lon = np.nanmean(nc.variables['lon'][:],axis=1)\n",
    "SG219_sta = nc.variables['dive'][:]\n",
    "SG219_time = np.array([convert_time_sg(np.nanmean(time)) for time in nc.variables['time'][:]])\n",
    "SG219_chl = np.empty(shape=SG219_T.shape)\n",
    "SG219_bbp = np.empty(shape=SG219_T.shape)\n",
    "for i in range(len(SG219_time)):\n",
    "    if np.mod(i,10)==0:\n",
    "        print(i,end=' ')\n",
    "    chl,z = min_max_filter(nc.variables['wlbb2fl_sig695nm_adjusted_L2'][i],\n",
    "                           nc.variables['z'][:])\n",
    "    SG219_chl[i] = grid_data(chl,z,depth,interpolate=True)\n",
    "    T = nc.variables['T'][i]+0.0091\n",
    "    S = nc.variables['S'][i]+0.0042\n",
    "    p = nc.variables['P'][i]\n",
    "    bbsw = betasw_wetlabs(700,20,124,41,T,S,p)\n",
    "    bbp,z = min_max_filter((nc.variables['wlbb2fl_sig700nm_adjusted_L2'][i]-bbsw)*2*np.pi*1.076,\n",
    "                           nc.variables['z'][:])\n",
    "    SG219_bbp[i] = grid_data(bbp,z,depth,interpolate=True)\n",
    "#SG219_chl = nc.variables['wlbb2fl_sig695nm_adjusted'][:,1::]\n",
    "\n",
    "nc.close()"
   ]
  },
  {
   "cell_type": "code",
   "execution_count": 146,
   "id": "d0c67392-5ea2-4f51-86c4-1da5d02c5622",
   "metadata": {},
   "outputs": [
    {
     "name": "stderr",
     "output_type": "stream",
     "text": [
      "/var/folders/qy/wmwmmxjn49vdd0lrh2vp44sm0002np/T/ipykernel_48581/3840752360.py:6: RuntimeWarning: Mean of empty slice\n",
      "  SG237_lat = np.nanmean(nc.variables['lat'][:],axis=1)\n",
      "/var/folders/qy/wmwmmxjn49vdd0lrh2vp44sm0002np/T/ipykernel_48581/3840752360.py:7: RuntimeWarning: Mean of empty slice\n",
      "  SG237_lon = np.nanmean(nc.variables['lon'][:],axis=1)\n",
      "/var/folders/qy/wmwmmxjn49vdd0lrh2vp44sm0002np/T/ipykernel_48581/3840752360.py:9: RuntimeWarning: Mean of empty slice\n",
      "  SG237_time = np.array([convert_time_sg(np.nanmean(time)) for time in nc.variables['time'][:]])\n",
      "/var/folders/qy/wmwmmxjn49vdd0lrh2vp44sm0002np/T/ipykernel_48581/987151129.py:4: RuntimeWarning: Mean of empty slice\n",
      "  gridded_data = np.array([np.nanmean(data[np.abs(dep-d)<ddep/2]) for d in grid_depth])\n"
     ]
    },
    {
     "name": "stdout",
     "output_type": "stream",
     "text": [
      "0 10 20 30 40 50 60 70 80 90 100 110 120 130 140 150 160 170 180 190 200 210 220 230 240 250 260 270 280 290 300 310 320 330 340 350 360 370 380 390 400 410 420 430 440 450 460 470 480 490 500 510 520 530 540 550 560 570 "
     ]
    }
   ],
   "source": [
    "# SG237\n",
    "nc = Dataset('Gliders/sg237_EXPORTS_Apr21_level3.nc','r')\n",
    "SG237_T = nc.variables['CT'][:,1::]\n",
    "SG237_S = nc.variables['SA'][:,1::]\n",
    "SG237_oxy = nc.variables['dissolved_oxygen'][:,1::]\n",
    "SG237_lat = np.nanmean(nc.variables['lat'][:],axis=1)\n",
    "SG237_lon = np.nanmean(nc.variables['lon'][:],axis=1)\n",
    "SG237_sta = nc.variables['dive'][:]\n",
    "SG237_time = np.array([convert_time_sg(np.nanmean(time)) for time in nc.variables['time'][:]])\n",
    "SG237_chl = np.empty(shape=SG237_T.shape)\n",
    "SG237_bbp = np.empty(shape=SG237_T.shape)\n",
    "for i in range(len(SG237_time)):\n",
    "    if np.mod(i,10)==0:\n",
    "        print(i,end=' ')\n",
    "    chl,z = min_max_filter(nc.variables['wlbb2fl_sig695nm_adjusted_L2'][i],\n",
    "                           nc.variables['z'][:])\n",
    "    SG237_chl[i] = grid_data(chl,z,depth,interpolate=True)\n",
    "    T = nc.variables['T'][i]\n",
    "    S = nc.variables['S'][i]\n",
    "    p = nc.variables['P'][i]\n",
    "    bbsw = betasw_wetlabs(700,20,124,41,T,S,p)\n",
    "    bbp,z = min_max_filter((nc.variables['wlbb2fl_sig700nm_adjusted_L2'][i]-bbsw)*2*np.pi*1.076,\n",
    "                           nc.variables['z'][:])\n",
    "    SG237_bbp[i] = grid_data(bbp,z,depth,interpolate=True)\n",
    "#SG237_chl = nc.variables['wlbb2fl_sig695nm_adjusted'][:,1::]\n",
    "nc.close()"
   ]
  },
  {
   "cell_type": "code",
   "execution_count": 149,
   "id": "200fdc13-d07a-4648-a05f-7843fe41425e",
   "metadata": {},
   "outputs": [
    {
     "name": "stdout",
     "output_type": "stream",
     "text": [
      "0 "
     ]
    },
    {
     "name": "stderr",
     "output_type": "stream",
     "text": [
      "/var/folders/qy/wmwmmxjn49vdd0lrh2vp44sm0002np/T/ipykernel_48581/987151129.py:4: RuntimeWarning: Mean of empty slice\n",
      "  gridded_data = np.array([np.nanmean(data[np.abs(dep-d)<ddep/2]) for d in grid_depth])\n"
     ]
    },
    {
     "name": "stdout",
     "output_type": "stream",
     "text": [
      "10 20 30 40 50 60 70 80 90 100 110 120 130 140 150 160 170 180 190 200 210 220 230 240 250 260 270 280 290 300 310 320 330 340 350 360 370 380 390 400 410 420 430 440 450 460 470 480 490 500 510 520 530 540 550 560 570 580 590 600 610 620 630 640 "
     ]
    }
   ],
   "source": [
    "# SL305\n",
    "data = loadmat('Gliders/SL305bin.mat')['SL']\n",
    "#SL305_T = data['CT'][0,0][1:].T\n",
    "#SL305_S = data['SA'][0,0][1:].T\n",
    "p = gsw.p_from_z(data['z'][0,0][1:]*-1,data['lat'][0,0][0])\n",
    "SL305_S = gsw.SA_from_SP(data['s'][0,0][1:] + 0.0063,p,data['lon'][0,0][0],data['lat'][0,0][0]).T\n",
    "SL305_T = gsw.CT_from_t(SL305_S.T,data['t'][0,0][1:],p).T\n",
    "SL305_oxy = data['o2'][0,0][1:].T\n",
    "SL305_lon = data['lon'][0,0][0]\n",
    "SL305_lat = data['lat'][0,0][0]\n",
    "SL305_sta = np.arange(len(data['lon'][0,0].ravel()))+1\n",
    "SL305_time = convert_time_matlab(data['mtime'][0,0][0])\n",
    "SL305_chl = np.empty(shape=SL305_T.shape)\n",
    "SL305_bbp = np.empty(shape=SL305_T.shape)\n",
    "for i in range(len(SL305_time)):\n",
    "    if np.mod(i,10)==0:\n",
    "        print(i,end=' ')\n",
    "    chl,z = min_max_filter(data['chl'][0,0][:,i],np.arange(1001))\n",
    "    SL305_chl[i] = grid_data(chl,z,depth,interpolate=True)\n",
    "    T = data['t'][0,0][:,i]\n",
    "    S = data['s'][0,0][:,i]+0.0063\n",
    "    P = gsw.p_from_z(data['z'][0,0][:]*-1,data['lat'][0,0][0][i])\n",
    "    bbsw = betasw_wetlabs(700,20,124,41,T,S,P)\n",
    "    bbp,z = min_max_filter((data['scatter700'][0,0][:,i]-bbsw)*2*np.pi*1.076,np.arange(1001))\n",
    "    SL305_bbp[i] = grid_data(bbp,z,depth,interpolate=True)\n",
    "#SL305_chl = data['chl'][0,0][1:].T"
   ]
  },
  {
   "cell_type": "code",
   "execution_count": 131,
   "id": "34dd5318-3db9-4caa-b815-cc48e02cadec",
   "metadata": {},
   "outputs": [
    {
     "name": "stdout",
     "output_type": "stream",
     "text": [
      "27 files: 0 "
     ]
    },
    {
     "name": "stderr",
     "output_type": "stream",
     "text": [
      "/Users/erickson/.conda/envs/zke/lib/python3.9/site-packages/numpy/lib/nanfunctions.py:217: UserWarning: Warning: converting a masked element to nan.\n",
      "  return a.dtype.type(a / b)\n",
      "/var/folders/qy/wmwmmxjn49vdd0lrh2vp44sm0002np/T/ipykernel_48581/987151129.py:4: RuntimeWarning: Mean of empty slice\n",
      "  gridded_data = np.array([np.nanmean(data[np.abs(dep-d)<ddep/2]) for d in grid_depth])\n"
     ]
    },
    {
     "name": "stdout",
     "output_type": "stream",
     "text": [
      "1 2 3 4 5 6 7 8 9 10 11 12 13 14 15 16 17 18 19 20 21 22 23 24 25 26 "
     ]
    }
   ],
   "source": [
    "# BGC 303\n",
    "BGC303_files = glob('./BGC_data_UWversion/1902303.*.nc')\n",
    "\n",
    "shape = (len(BGC303_files),len(depth))\n",
    "BGC303_T = np.empty(shape=shape)\n",
    "BGC303_S = np.empty(shape=shape)\n",
    "BGC303_chl = np.empty(shape=shape)\n",
    "BGC303_bbp = np.empty(shape=shape)\n",
    "BGC303_oxy = np.empty(shape=shape)\n",
    "BGC303_time = np.empty(shape=shape[0])\n",
    "BGC303_lat = np.empty(shape=shape[0])\n",
    "BGC303_lon = np.empty(shape=shape[0])\n",
    "BGC303_sta = np.empty(shape=shape[0])\n",
    "print('%d files:'%shape[0],end=' ')\n",
    "for i,file in enumerate(BGC303_files):\n",
    "    print(i,end=' ')\n",
    "    nc = Dataset(file,'r')\n",
    "    BGC303_time[i] = convert_time_matlab(nc.variables['TimeStartDescent'][:].item())\n",
    "    BGC303_lat[i] = nc.variables['LATITUDE'][0]\n",
    "    BGC303_lon[i] = nc.variables['LONGITUDE'][0]\n",
    "    BGC303_sta[i] = int(file[-6:-3])\n",
    "    BGC303_T[i] = grid_data(nc.variables['TEMP_CONSERVATIVE'][:],-nc.variables['DEPTH'][:],depth,interpolate=True)\n",
    "    BGC303_S[i] = grid_data(nc.variables['SAL_ABSOLUTE'][:],-nc.variables['DEPTH'][:],depth,interpolate=True)\n",
    "    chl,z = min_max_filter(np.ma.filled(nc.variables['FLUORESCENCE_CHLA'][:],fill_value=np.nan),\n",
    "                           -nc.variables['DEPTH'][:])\n",
    "    BGC303_chl[i] = grid_data(chl,z,depth,interpolate=True)\n",
    "    bbp,z = min_max_filter(np.ma.filled(nc.variables['BBP700'][:],fill_value=np.nan),\n",
    "                           -nc.variables['DEPTH'][:])\n",
    "    BGC303_bbp[i] = grid_data(bbp,z,depth,interpolate=True)\n",
    "                           \n",
    "    #BGC303_chl[i] = grid_data(np.ma.filled(nc.variables['FLUORESCENCE_CHLA'][:],fill_value=np.nan),-nc.variables['DEPTH'][:],depth,interpolate=True)\n",
    "    \n",
    "    BGC303_oxy[i] = grid_data(np.ma.filled(nc.variables['DOXY'][:],fill_value=np.nan),-nc.variables['DEPTH'][:],depth,interpolate=True)\n",
    "\n",
    "    nc.close()\n"
   ]
  },
  {
   "cell_type": "code",
   "execution_count": 132,
   "id": "551c6f89-aa3e-4b78-8a6d-6f1a22e1e211",
   "metadata": {},
   "outputs": [
    {
     "name": "stdout",
     "output_type": "stream",
     "text": [
      "27 files: 0 "
     ]
    },
    {
     "name": "stderr",
     "output_type": "stream",
     "text": [
      "/var/folders/qy/wmwmmxjn49vdd0lrh2vp44sm0002np/T/ipykernel_48581/987151129.py:4: RuntimeWarning: Mean of empty slice\n",
      "  gridded_data = np.array([np.nanmean(data[np.abs(dep-d)<ddep/2]) for d in grid_depth])\n"
     ]
    },
    {
     "name": "stdout",
     "output_type": "stream",
     "text": [
      "1 2 3 4 5 6 7 8 9 10 11 12 13 14 15 16 17 18 19 20 21 22 23 24 25 26 "
     ]
    }
   ],
   "source": [
    "# BGC 304\n",
    "BGC304_files = glob('./BGC_data_UWversion/1902304.*.nc')\n",
    "\n",
    "shape = (len(BGC304_files),len(depth))\n",
    "BGC304_T = np.empty(shape=shape)\n",
    "BGC304_S = np.empty(shape=shape)\n",
    "BGC304_chl = np.empty(shape=shape)\n",
    "BGC304_bbp = np.empty(shape=shape)\n",
    "BGC304_oxy = np.empty(shape=shape)\n",
    "BGC304_time = np.empty(shape=shape[0])\n",
    "BGC304_lat = np.empty(shape=shape[0])\n",
    "BGC304_lon = np.empty(shape=shape[0])\n",
    "BGC304_sta = np.empty(shape=shape[0])\n",
    "\n",
    "print('%d files:'%shape[0],end=' ')\n",
    "for i,file in enumerate(BGC304_files):\n",
    "    print(i,end=' ')\n",
    "    nc = Dataset(file,'r')\n",
    "    BGC304_time[i] = convert_time_matlab(nc.variables['TimeStartDescent'][:].item())\n",
    "    BGC304_lat[i] = nc.variables['LATITUDE'][0]\n",
    "    BGC304_lon[i] = nc.variables['LONGITUDE'][0]\n",
    "    BGC304_sta[i] = int(file[-6:-3])\n",
    "    #BGC304_T[i] = grid_data(nc.variables['TEMP_CONSERVATIVE'][:],-nc.variables['DEPTH'][:],depth,interpolate=True)\n",
    "    #BGC304_S[i] = grid_data(nc.variables['SAL_ABSOLUTE'][:],-nc.variables['DEPTH'][:],depth,interpolate=True)\n",
    "    SA = gsw.SA_from_SP(nc.variables['PSAL'][:]+0.0074,nc.variables['PRES'][:],nc.variables['LONGITUDE'][:],nc.variables['LATITUDE'][:])\n",
    "    CT = gsw.CT_from_t(SA,nc.variables['TEMP'][:]+0.0094,nc.variables['PRES'][:])\n",
    "    BGC304_T[i] = grid_data(np.ma.filled(CT,fill_value=np.nan),-1*nc.variables['DEPTH'][:],depth,interpolate=True)\n",
    "    BGC304_S[i] = grid_data(np.ma.filled(SA,fill_value=np.nan),-1*nc.variables['DEPTH'][:],depth,interpolate=True)\n",
    "    chl,z = min_max_filter(np.ma.filled(nc.variables['FLUORESCENCE_CHLA'][:],fill_value=np.nan),\n",
    "                           -nc.variables['DEPTH'][:])\n",
    "    BGC304_chl[i] = grid_data(chl,z,depth,interpolate=True)\n",
    "    bbp,z = min_max_filter(np.ma.filled(nc.variables['BBP700'][:],fill_value=np.nan),\n",
    "                           -nc.variables['DEPTH'][:])\n",
    "    BGC304_bbp[i] = grid_data(bbp,z,depth,interpolate=True)\n",
    "    #BGC304_chl[i] = grid_data(np.ma.filled(nc.variables['FLUORESCENCE_CHLA'][:],fill_value=np.nan),-nc.variables['DEPTH'][:],depth,interpolate=True)\n",
    "    BGC304_oxy[i] = grid_data(np.ma.filled(nc.variables['DOXY'][:],fill_value=np.nan),-nc.variables['DEPTH'][:],depth,interpolate=True)\n",
    "\n",
    "    nc.close()"
   ]
  },
  {
   "cell_type": "code",
   "execution_count": 154,
   "id": "03627fad-369d-4486-b0e7-142c86a3b53e",
   "metadata": {},
   "outputs": [],
   "source": [
    "time = np.concatenate((DY_time,JC_time,SdG_time,SG219_time,SG237_time,SL305_time,BGC303_time,BGC304_time))\n",
    "lat  = np.concatenate((DY_lat, JC_lat, SdG_lat, SG219_lat, SG237_lat, SL305_lat, BGC303_lat, BGC304_lat))\n",
    "lon  = np.concatenate((DY_lon, JC_lon, SdG_lon, SG219_lon, SG237_lon, SL305_lon, BGC303_lon, BGC304_lon))\n",
    "sta  = np.concatenate((DY_sta, JC_sta, SdG_sta, SG219_sta, SG237_sta, SL305_sta, BGC303_sta, BGC304_sta))\n",
    "\n",
    "T    = np.concatenate((DY_T, JC_T, SdG_T, SG219_T, SG237_T, SL305_T, BGC303_T, BGC304_T))\n",
    "S    = np.concatenate((DY_S, JC_S, SdG_S, SG219_S, SG237_S, SL305_S, BGC303_S, BGC304_S))\n",
    "chl  = np.concatenate((DY_chl, JC_chl, SdG_chl, SG219_chl, SG237_chl, SL305_chl, BGC303_chl, BGC304_chl))\n",
    "bbp  = np.concatenate((DY_bbp, JC_bbp, SdG_bbp, SG219_bbp, SG237_bbp, SL305_bbp, BGC303_bbp, BGC304_bbp))\n",
    "oxy  = np.concatenate((DY_oxy, JC_oxy, SdG_oxy, SG219_oxy, SG237_oxy, SL305_oxy, BGC303_oxy, BGC304_oxy))\n",
    "\n",
    "\n",
    "\n",
    "ID = np.concatenate((np.full(DY_time.shape,0),    np.full(JC_time.shape,1),\n",
    "                     np.full(SdG_time.shape,2),   np.full(SG219_time.shape,3),\n",
    "                     np.full(SG237_time.shape,4), np.full(SL305_time.shape,5),\n",
    "                     np.full(BGC303_time.shape,6),np.full(BGC304_time.shape,7)))\n"
   ]
  },
  {
   "cell_type": "code",
   "execution_count": 155,
   "id": "02f25060-6553-46cd-9e09-48b5ac856e76",
   "metadata": {},
   "outputs": [],
   "source": [
    "order = np.argsort(time)\n",
    "order = order[np.isfinite(time[order])]"
   ]
  },
  {
   "cell_type": "code",
   "execution_count": 157,
   "id": "2d4a68db-bd59-4adf-8f7e-5487fab5f01c",
   "metadata": {},
   "outputs": [],
   "source": [
    "NC = Dataset('EXPORTSNA_profiles.nc','w')\n",
    "NC.author = 'Zachary K Erickson'\n",
    "NC.contact = 'zachary.k.erickson@noaa.gov'\n",
    "NC.history = 'See https://github.com/zacharykerickson/EXPORTS_analyses/blob/main/consolidate_data.ipynb'\n",
    "NC.example = 'See https://github.com/zacharykerickson/EXPORTS_analyses/blob/main/look_at_data.ipynb'\n",
    "NC.createDimension('profile',len(order))\n",
    "NC.createDimension('depth',len(depth))\n",
    "\n",
    "NC_ID = NC.createVariable('ID'  ,'float32',('profile',))\n",
    "NC_t  = NC.createVariable('time','float32',('profile',))\n",
    "NC_lat= NC.createVariable('lat', 'float32',('profile',))\n",
    "NC_lon= NC.createVariable('lon', 'float32',('profile',))\n",
    "NC_sta= NC.createVariable('station','uint32',('profile',))\n",
    "NC_z  = NC.createVariable('depth','uint32',('depth',))\n",
    "NC_T  = NC.createVariable('CT',  'float32',('profile','depth'))\n",
    "NC_S  = NC.createVariable('SA',  'float32',('profile','depth'))\n",
    "NC_chl= NC.createVariable('fChl','float32',('profile','depth'))\n",
    "NC_bbp= NC.createVariable('bbp700','float32',('profile','depth'))\n",
    "NC_oxy= NC.createVariable('oxy', 'float32',('profile','depth'))\n",
    "\n",
    "NC_ID.longname = 'platform_ID'\n",
    "NC_t.longname = 'profile_time'\n",
    "NC_lat.longname = 'profile_latitude'\n",
    "NC_lon.longname = 'profile_longitude'\n",
    "NC_sta.longname = 'station_or_profile_number'\n",
    "NC_z.longname = 'depth_below_surface'\n",
    "NC_T.longname = 'conservative_temperature'\n",
    "NC_S.longname = 'salinity_absolute'\n",
    "NC_chl.longname = 'chlorophyll_fluorescence'\n",
    "NC_bbp.longname = 'particulate_backscatter_700nm'\n",
    "NC_oxy.longname = 'dissolved_oxygen'\n",
    "\n",
    "NC_ID.units = '0: DY_131, 1: JC_214, 2: SdG_2015, 3: SG_219, 4: SG_237, 5: SL_305, 6: BGC_303, 7: BGC_304'\n",
    "NC_t.units = 'days since 01 May 2021'\n",
    "NC_lat.units = 'degrees North'\n",
    "NC_lon.units = 'degrees East'\n",
    "NC_z.units = 'm'\n",
    "NC_T.units = 'deg C'\n",
    "NC_S.units = 'g kg-1'\n",
    "NC_chl.units = 'mg m-3'\n",
    "NC_bbp.units = 'm-1'\n",
    "NC_oxy.units = 'umol kg-1'\n",
    "\n",
    "NC_ID[:] = ID[order]\n",
    "NC_t[:] = time[order]\n",
    "NC_lat[:] = lat[order]\n",
    "NC_lon[:] = lon[order]\n",
    "NC_sta[:] = sta[order]\n",
    "NC_z[:] = depth\n",
    "NC_T[:] = T[order]\n",
    "NC_S[:] = S[order]\n",
    "NC_chl[:] = chl[order]\n",
    "NC_bbp[:] = bbp[order]\n",
    "NC_oxy[:] = oxy[order]\n",
    "\n",
    "NC.close()"
   ]
  },
  {
   "cell_type": "code",
   "execution_count": null,
   "id": "29a74ee2-bf00-4897-bb06-6e26523189a1",
   "metadata": {},
   "outputs": [],
   "source": []
  },
  {
   "cell_type": "code",
   "execution_count": null,
   "id": "ece195c3-2dd1-4e3e-9c2e-ed220b24ddff",
   "metadata": {},
   "outputs": [],
   "source": []
  },
  {
   "cell_type": "code",
   "execution_count": null,
   "id": "f0814008-bc8c-452e-8a81-a4583a045d69",
   "metadata": {},
   "outputs": [],
   "source": []
  },
  {
   "cell_type": "code",
   "execution_count": null,
   "id": "8718e09c-697d-44ed-a582-796dc6572cf9",
   "metadata": {},
   "outputs": [],
   "source": []
  },
  {
   "cell_type": "code",
   "execution_count": null,
   "id": "efc3028f-074b-42d0-984e-37fd0a81e951",
   "metadata": {},
   "outputs": [],
   "source": []
  },
  {
   "cell_type": "code",
   "execution_count": 56,
   "id": "71f2d942-526d-4ee7-81b8-d571e94b096f",
   "metadata": {},
   "outputs": [],
   "source": [
    "nc = Dataset('EXPORTSNA_profiles.nc','r')\n",
    "ID = nc.variables['ID'][:]\n",
    "depth = nc.variables['depth'][:]\n",
    "lat = nc.variables['lat'][:]\n",
    "lon = nc.variables['lon'][:]\n",
    "sta = nc.variables['station'][:]\n",
    "time = nc.variables['time'][:]\n",
    "CT = nc.variables['CT'][:]\n",
    "SA = nc.variables['SA'][:]\n",
    "\n",
    "label_string = nc.variables['ID'].units\n",
    "all_IDs = np.unique(ID)\n",
    "labels = [s.split(': ')[1] for s in label_string.split(', ')]"
   ]
  },
  {
   "cell_type": "code",
   "execution_count": 59,
   "id": "de185462-ad21-4e5e-831d-5fd6b401b284",
   "metadata": {},
   "outputs": [],
   "source": [
    "import matplotlib.pyplot as plt "
   ]
  },
  {
   "cell_type": "code",
   "execution_count": 60,
   "id": "b41afacd-3d41-4ea7-b653-036d10db9231",
   "metadata": {},
   "outputs": [
    {
     "data": {
      "text/plain": [
       "[<matplotlib.lines.Line2D at 0x7fb25a7c28b0>]"
      ]
     },
     "execution_count": 60,
     "metadata": {},
     "output_type": "execute_result"
    },
    {
     "data": {
      "image/png": "[encoded data removed]",
      "text/plain": [
       "<Figure size 432x288 with 1 Axes>"
      ]
     },
     "metadata": {
      "needs_background": "light"
     },
     "output_type": "display_data"
    }
   ],
   "source": [
    "plt.plot(sta)"
   ]
  },
  {
   "cell_type": "code",
   "execution_count": 109,
   "id": "7cf32a2b-99dc-4ef4-aa3f-85edcc53fe0f",
   "metadata": {},
   "outputs": [],
   "source": [
    "time_range = [5,6]\n",
    "inds = (time>time_range[0]) & (time<time_range[1]) | True"
   ]
  },
  {
   "cell_type": "code",
   "execution_count": 110,
   "id": "a0ec20cf-21e3-48a7-8d21-fd44cda7ef16",
   "metadata": {},
   "outputs": [
    {
     "data": {
      "text/plain": [
       "<matplotlib.legend.Legend at 0x7fbc3e7163a0>"
      ]
     },
     "execution_count": 110,
     "metadata": {},
     "output_type": "execute_result"
    },
    {
     "data": {
      "image/png": "[encoded data removed]",
      "text/plain": [
       "<Figure size 432x288 with 1 Axes>"
      ]
     },
     "metadata": {
      "needs_background": "light"
     },
     "output_type": "display_data"
    }
   ],
   "source": [
    "for i in all_IDs:\n",
    "    plt.scatter(lon[inds & (ID==i)],lat[inds & (ID==i)])\n",
    "plt.legend(labels,ncol=3)"
   ]
  },
  {
   "cell_type": "code",
   "execution_count": 111,
   "id": "5bfd8b26-176e-4755-92ce-8f9ac7504506",
   "metadata": {},
   "outputs": [
    {
     "data": {
      "text/plain": [
       "<matplotlib.legend.Legend at 0x7fbc3e626ee0>"
      ]
     },
     "execution_count": 111,
     "metadata": {},
     "output_type": "execute_result"
    },
    {
     "data": {
      "image/png": "[encoded data removed]",
      "text/plain": [
       "<Figure size 432x288 with 1 Axes>"
      ]
     },
     "metadata": {
      "needs_background": "light"
     },
     "output_type": "display_data"
    }
   ],
   "source": [
    "for i in all_IDs:\n",
    "    plt.scatter(SA[inds & (ID==i)],CT[inds & (ID==i)],marker='.')\n",
    "plt.legend(labels)"
   ]
  },
  {
   "cell_type": "code",
   "execution_count": 335,
   "id": "2f42556b-f4b3-44c0-8dd8-f1ca13cc33b9",
   "metadata": {},
   "outputs": [
    {
     "data": {
      "image/png": "[encoded data removed]",
      "text/plain": [
       "<Figure size 432x288 with 2 Axes>"
      ]
     },
     "metadata": {
      "needs_background": "light"
     },
     "output_type": "display_data"
    }
   ],
   "source": [
    "plt.plot(np.nanmedian(SA[inds],axis=0),depth)\n",
    "plt.fill_betweenx(depth,*np.nanpercentile(SA[inds],[25,75],axis=0),alpha=0.3)\n",
    "plt.xlabel('Absolute salinity (g kg$^{-1}$)',color='C0')\n",
    "plt.twiny()\n",
    "plt.plot(np.nanmedian(CT[inds],axis=0),depth,color='C1')\n",
    "plt.fill_betweenx(depth,*np.nanpercentile(CT[inds],[25,75],axis=0),alpha=0.3,color='C1')\n",
    "plt.xlabel('Conservative temperature (deg C)',color='C1')\n",
    "plt.ylim([1000,0]);"
   ]
  }
 ],
 "metadata": {
  "kernelspec": {
   "display_name": "Python 3 (ipykernel)",
   "language": "python",
   "name": "python3"
  },
  "language_info": {
   "codemirror_mode": {
    "name": "ipython",
    "version": 3
   },
   "file_extension": ".py",
   "mimetype": "text/x-python",
   "name": "python",
   "nbconvert_exporter": "python",
   "pygments_lexer": "ipython3",
   "version": "3.9.7"
  }
 },
 "nbformat": 4,
 "nbformat_minor": 5
}
